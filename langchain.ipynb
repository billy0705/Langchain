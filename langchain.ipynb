{
 "cells": [
  {
   "cell_type": "code",
   "execution_count": null,
   "metadata": {},
   "outputs": [],
   "source": [
    "!git clone https://github.com/billy0705/Langchain.git"
   ]
  },
  {
   "cell_type": "code",
   "execution_count": null,
   "metadata": {},
   "outputs": [],
   "source": [
    "%cd Langchain\n",
    "!ls"
   ]
  },
  {
   "cell_type": "code",
   "execution_count": null,
   "metadata": {},
   "outputs": [],
   "source": [
    "!pip install -q -r requirements.txt"
   ]
  },
  {
   "cell_type": "code",
   "execution_count": 1,
   "metadata": {},
   "outputs": [
    {
     "name": "stdout",
     "output_type": "stream",
     "text": [
      "Loading embedding model.\n",
      "Loading persist database.\n",
      "Sources:  ['./pdf_folder/Profile_1.pdf']\n",
      "Database saved.\n"
     ]
    }
   ],
   "source": [
    "from Vector_databse import Vector_DB\n",
    "from config import EMBEDDING_MODEL_NAME, DB_PATH\n",
    "\n",
    "pdf_folder_path = './pdf_folder'\n",
    "db = Vector_DB(EMBEDDING_MODEL_NAME, db_path=DB_PATH)\n",
    "db.persist_db()\n",
    "# db.add_docs_from_path(pdf_folder_path)"
   ]
  },
  {
   "cell_type": "code",
   "execution_count": null,
   "metadata": {},
   "outputs": [],
   "source": [
    "from llama3 import Llama3_pipline\n",
    "from config import LLM_MODEL_NAME, HF_TOKEN\n",
    "\n",
    "HF_TOKEN = \"\"\n",
    "\n",
    "llama3_pipline = Llama3_pipline(LLM_MODEL_NAME, HF_TOKEN)"
   ]
  },
  {
   "cell_type": "code",
   "execution_count": null,
   "metadata": {},
   "outputs": [],
   "source": [
    "from RAG import RAG\n",
    "\n",
    "RAGQA = RAG(db, llama3_pipline)\n",
    "\n",
    "query = \"Tell me when is Roger Roll's birthday.\"\n",
    "start_time = time.time()\n",
    "result = RAGQA.qa(query)\n",
    "end_time = time.time()\n",
    "print(\"Time: \", end_time - start_time)\n",
    "print(result)"
   ]
  },
  {
   "cell_type": "code",
   "execution_count": null,
   "metadata": {},
   "outputs": [],
   "source": []
  }
 ],
 "metadata": {
  "kernelspec": {
   "display_name": "Python 3",
   "language": "python",
   "name": "python3"
  },
  "language_info": {
   "codemirror_mode": {
    "name": "ipython",
    "version": 3
   },
   "file_extension": ".py",
   "mimetype": "text/x-python",
   "name": "python",
   "nbconvert_exporter": "python",
   "pygments_lexer": "ipython3",
   "version": "3.11.6"
  }
 },
 "nbformat": 4,
 "nbformat_minor": 2
}
