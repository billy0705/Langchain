{
 "cells": [
  {
   "cell_type": "code",
   "execution_count": null,
   "metadata": {},
   "outputs": [],
   "source": [
    "!git clone https://github.com/billy0705/Langchain.git"
   ]
  },
  {
   "cell_type": "code",
   "execution_count": null,
   "metadata": {},
   "outputs": [],
   "source": [
    "%cd Langchain\n",
    "!ls"
   ]
  },
  {
   "cell_type": "code",
   "execution_count": 1,
   "metadata": {},
   "outputs": [
    {
     "name": "stdout",
     "output_type": "stream",
     "text": [
      "Loading embedding model.\n",
      "Loading persist database.\n",
      "Sources:  ['./pdf_folder/Profile_1.pdf']\n",
      "Database saved.\n"
     ]
    }
   ],
   "source": [
    "from Vector_databse import Vector_DB\n",
    "from config import EMBEDDING_MODEL_NAME, DB_PATH\n",
    "\n",
    "pdf_folder_path = './pdf_folder'\n",
    "db = Vector_DB(EMBEDDING_MODEL_NAME, db_path=DB_PATH)\n",
    "db.persist_db()\n",
    "db.add_docs_from_path(pdf_folder_path)"
   ]
  },
  {
   "cell_type": "code",
   "execution_count": null,
   "metadata": {},
   "outputs": [],
   "source": []
  }
 ],
 "metadata": {
  "kernelspec": {
   "display_name": "Python 3",
   "language": "python",
   "name": "python3"
  },
  "language_info": {
   "codemirror_mode": {
    "name": "ipython",
    "version": 3
   },
   "file_extension": ".py",
   "mimetype": "text/x-python",
   "name": "python",
   "nbconvert_exporter": "python",
   "pygments_lexer": "ipython3",
   "version": "3.11.6"
  }
 },
 "nbformat": 4,
 "nbformat_minor": 2
}
